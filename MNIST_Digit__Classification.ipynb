{
  "nbformat": 4,
  "nbformat_minor": 0,
  "metadata": {
    "colab": {
      "private_outputs": true,
      "provenance": [],
      "authorship_tag": "ABX9TyN7d1BYFV0g63TO3IbqtfCO",
      "include_colab_link": true
    },
    "kernelspec": {
      "name": "python3",
      "display_name": "Python 3"
    },
    "language_info": {
      "name": "python"
    }
  },
  "cells": [
    {
      "cell_type": "markdown",
      "metadata": {
        "id": "view-in-github",
        "colab_type": "text"
      },
      "source": [
        "<a href=\"https://colab.research.google.com/github/syedaBasmaAfreen/ML-projects/blob/main/MNIST_Digit__Classification.ipynb\" target=\"_parent\"><img src=\"https://colab.research.google.com/assets/colab-badge.svg\" alt=\"Open In Colab\"/></a>"
      ]
    },
    {
      "cell_type": "markdown",
      "source": [
        "# * 📚   MNIST digits classification dataset*"
      ],
      "metadata": {
        "id": "xCGqoMWpjQnF"
      }
    },
    {
      "cell_type": "markdown",
      "source": [
        "    📑  MNIST dataset\n",
        "\n",
        "*   MNIST is a collection of handwritten digits.\n",
        "*   This is a dataset of 60,000 28x28 grayscale images of the 10\n",
        "    digits, along with a test set of 10,000 images.\n",
        "*   Pixel values range from 0 to 255.\n",
        "\n",
        "*   To solve the MNIST digit classification problem, you can use a\n",
        "    variety of machine learning algorithms.\n",
        "\n",
        "*  The goal of MNIST digit classification is to train a machine learning model that can accurately classify the digits in the test set based on the patterns and features in the training set\n",
        "\n",
        "\n",
        "*   So,here we  are creating a neural network for identifying numbers based on handwritten digits. For example, when the input to the network is an image of a handwritten number 8, the corresponding prediction must also be the digit 8.  \n",
        "\n"
      ],
      "metadata": {
        "id": "yRq0ckYFjiLS"
      }
    },
    {
      "cell_type": "markdown",
      "source": [
        "importing the dependencies"
      ],
      "metadata": {
        "id": "15nH7LomKukC"
      }
    },
    {
      "cell_type": "code",
      "execution_count": null,
      "metadata": {
        "id": "UuOG6VaFDjrP"
      },
      "outputs": [],
      "source": [
        "import numpy as np\n",
        " # covert   image data into numpy arrays\n",
        "\n",
        "import matplotlib.pyplot as plt\n",
        " #once you th feed that numpy array to th plot of matplotlib you can see what th particula imag is\n",
        "\n",
        "import seaborn as sns\n",
        "#for the plots aND graph that we want\n",
        "\n",
        "import cv2\n",
        "# it is opn cv library for image preprocesing task\n",
        "\n",
        "from google.colab.patches import cv2_imshow\n",
        "#for displaying the image\n",
        "\n",
        "from PIL import Image\n",
        "#image prprocesing task\n",
        "\n",
        "import tensorflow as tf\n",
        "#dep learnig library tsflow\n",
        "\n",
        "tf.random.set_seed(3)\n",
        "#we are setting some a seed for this tensnor flow\n",
        "\n",
        "from tensorflow import keras\n",
        "#keras th dataets mnist data\n",
        "\n",
        "from keras.datasets import mnist\n",
        "\n",
        "from tensorflow.math import confusion_matrix"
      ]
    },
    {
      "cell_type": "markdown",
      "source": [
        " 💻**Loading the MNIST data from keras.dataset**"
      ],
      "metadata": {
        "id": "KrTNqdhfOXmf"
      }
    },
    {
      "cell_type": "code",
      "source": [
        "(X_train,y_train),(X_test,y_test)=mnist.load_data()"
      ],
      "metadata": {
        "id": "-psqd1hZMuYX"
      },
      "execution_count": null,
      "outputs": []
    },
    {
      "cell_type": "code",
      "source": [
        "type(X_train)"
      ],
      "metadata": {
        "id": "ineQ83jyQCaN"
      },
      "execution_count": null,
      "outputs": []
    },
    {
      "cell_type": "code",
      "source": [
        "#shape of the numpy arrays\n",
        "print(X_train.shape,y_train.shape,X_test.shape,y_test.shape)"
      ],
      "metadata": {
        "id": "b-xSaxBeQr98"
      },
      "execution_count": null,
      "outputs": []
    },
    {
      "cell_type": "code",
      "source": [
        "#printing the 10th image\n",
        "print(X_train[1])"
      ],
      "metadata": {
        "id": "WQYLrgqzRtDs"
      },
      "execution_count": null,
      "outputs": []
    },
    {
      "cell_type": "markdown",
      "source": [
        "here the image in the form of numpy array\n"
      ],
      "metadata": {
        "id": "wYoelN6IUqie"
      }
    },
    {
      "cell_type": "code",
      "source": [
        "print(X_train[10].shape)"
      ],
      "metadata": {
        "id": "PWBuwMbzUkT4"
      },
      "execution_count": null,
      "outputs": []
    },
    {
      "cell_type": "code",
      "source": [
        "#displaing the image\n",
        "plt.imshow(X_train[50])\n",
        "plt.show"
      ],
      "metadata": {
        "id": "Og4lQ-vEU9oo"
      },
      "execution_count": null,
      "outputs": []
    },
    {
      "cell_type": "code",
      "source": [
        "# plt.imshow(X_train[50])\n",
        "# plt.show\n",
        "#printing the corresponding label\n",
        "print(y_train[50])\n"
      ],
      "metadata": {
        "id": "MzDP4vGuVXuW"
      },
      "execution_count": null,
      "outputs": []
    },
    {
      "cell_type": "markdown",
      "source": [
        "prevously the image was in numpy array and  now converted back into an image"
      ],
      "metadata": {
        "id": "aSfBJiFMWYFV"
      }
    },
    {
      "cell_type": "markdown",
      "source": [
        "\n",
        "**Image labels**"
      ],
      "metadata": {
        "id": "ZlJQh0xVW9MC"
      }
    },
    {
      "cell_type": "code",
      "source": [
        "print(y_train.shape,y_test.shape)"
      ],
      "metadata": {
        "id": "SzeImmD7V9Y8"
      },
      "execution_count": null,
      "outputs": []
    },
    {
      "cell_type": "code",
      "source": [
        "print(np.unique(y_train))\n",
        "print(np.unique(y_test))"
      ],
      "metadata": {
        "id": "ksRbbfg9XlU-"
      },
      "execution_count": null,
      "outputs": []
    },
    {
      "cell_type": "markdown",
      "source": [
        "we can use this labels as such or we can apply on hot encoding"
      ],
      "metadata": {
        "id": "v5b-rubBYgwm"
      }
    },
    {
      "cell_type": "markdown",
      "source": [
        "All the images  have the same dimensions in th dataset ,if,not we have resize all the images to a common dimension.\n",
        "Cannot put togethr in single array if  the images  aren't in  the same dimensions."
      ],
      "metadata": {
        "id": "aMHXY30oasuU"
      }
    },
    {
      "cell_type": "code",
      "source": [
        "#scaling the values\n",
        "X_train =X_train/255\n",
        "X_test =X_test/255"
      ],
      "metadata": {
        "id": "5RUh8VDdX8I1"
      },
      "execution_count": null,
      "outputs": []
    },
    {
      "cell_type": "code",
      "source": [
        "print(X_train[10])"
      ],
      "metadata": {
        "id": "jmpTXynjrY0o"
      },
      "execution_count": null,
      "outputs": []
    },
    {
      "cell_type": "markdown",
      "source": [
        "**Building Neutral Network**"
      ],
      "metadata": {
        "id": "C_ILg9AetBrJ"
      }
    },
    {
      "cell_type": "code",
      "source": [
        "#setting up the layers of the neutral network\n",
        "model= keras.Sequential([\n",
        "                         keras.layers.Flatten(input_shape=(28,28)),\n",
        "#converting  rows  columnsor matrix  into single darray or line bcz of nn\n",
        "                          keras.layers.Dense(50, activation= 'relu'),\n",
        "                          keras.layers.Dense(50, activation= 'relu'),\n",
        "                          keras.layers.Dense(10, activation= 'sigmoid')\n",
        "])"
      ],
      "metadata": {
        "id": "r3vrBNImreHY"
      },
      "execution_count": null,
      "outputs": []
    },
    {
      "cell_type": "code",
      "source": [
        "#compling  the neutral network\n",
        "\n",
        "model.compile(optimizer='adam',\n",
        "              loss = 'sparse_categorical_crossentropy',\n",
        "              metrics=['accuracy'] )"
      ],
      "metadata": {
        "id": "DUzoQhUbyIMn"
      },
      "execution_count": null,
      "outputs": []
    },
    {
      "cell_type": "code",
      "source": [
        "#Training  the neutral network\n",
        "model.fit(X_train, y_train, epochs=10)"
      ],
      "metadata": {
        "id": "MCoja8XS8eL7"
      },
      "execution_count": null,
      "outputs": []
    },
    {
      "cell_type": "markdown",
      "source": [
        "Training   data accuracy is 98.9%"
      ],
      "metadata": {
        "id": "Gbl92mF297Lo"
      }
    },
    {
      "cell_type": "markdown",
      "source": [
        "**Accuracy on test data**"
      ],
      "metadata": {
        "id": "OUlFtoMj-G44"
      }
    },
    {
      "cell_type": "code",
      "source": [
        "loss ,accuracy=model.evaluate(X_test ,y_test)\n",
        "print(accuracy)"
      ],
      "metadata": {
        "id": "pMSeT3zm8tqj"
      },
      "execution_count": null,
      "outputs": []
    },
    {
      "cell_type": "markdown",
      "source": [
        "Test data accuracy is 97.1%"
      ],
      "metadata": {
        "id": "6IDVs5g8_pKT"
      }
    },
    {
      "cell_type": "markdown",
      "source": [
        " out of 100 images your trained nn can make correct predictions for for 97 images"
      ],
      "metadata": {
        "id": "CcZYbikY__XY"
      }
    },
    {
      "cell_type": "code",
      "source": [
        "print(X_test.shape)"
      ],
      "metadata": {
        "id": "i7VBgdwY-1gA"
      },
      "execution_count": null,
      "outputs": []
    },
    {
      "cell_type": "code",
      "source": [
        "#first data point in X_test\n",
        "plt.imshow(X_test[0])\n",
        "# index zero means first image\n",
        "plt.show()\n",
        "\n"
      ],
      "metadata": {
        "id": "krRz_VJ-AsyQ"
      },
      "execution_count": null,
      "outputs": []
    },
    {
      "cell_type": "markdown",
      "source": [
        "index zero means first image  of X_test & its corresponding label is stored in y_test.\n"
      ],
      "metadata": {
        "id": "Gs2oTfdqD9Wd"
      }
    },
    {
      "cell_type": "code",
      "source": [
        "print(y_test[0])"
      ],
      "metadata": {
        "id": "Rll0YeTEDTPE"
      },
      "execution_count": null,
      "outputs": []
    },
    {
      "cell_type": "markdown",
      "source": [
        "now what we are doing here is   give this x_test to our model\n",
        " and we are going see what is the prediction mad by our model. we are going to see individual predictions by our model."
      ],
      "metadata": {
        "id": "FiRoix-DDznO"
      }
    },
    {
      "cell_type": "code",
      "source": [
        "# creating a new var & storing  the X_test values in it\n",
        "y_pred =model.predict(X_test)\n",
        "#model.predict gives the predection prob of each class for that data point.\n",
        "#or\n",
        "#for ml predict will return labl value where as when you use in NN it wok differently it will tll you what is the probability of th values"
      ],
      "metadata": {
        "id": "U-R2AsJGDu99"
      },
      "execution_count": null,
      "outputs": []
    },
    {
      "cell_type": "code",
      "source": [
        "print(y_pred.shape)"
      ],
      "metadata": {
        "id": "xiZvGVEuG9fQ"
      },
      "execution_count": null,
      "outputs": []
    },
    {
      "cell_type": "code",
      "source": [
        "print(y_pred[0])\n",
        "#what is the prob for\n",
        "# 0           1            2          3          4"
      ],
      "metadata": {
        "id": "-dINm4TlG4cI"
      },
      "execution_count": null,
      "outputs": []
    },
    {
      "cell_type": "code",
      "source": [
        "#converting the prediction prob to class label\n",
        "\n",
        "label_for_first_test_image=np.argmax(y_pred[0])\n",
        "print(label_for_first_test_image)\n",
        "#what is the index of value that is max so here we ar using nprmax"
      ],
      "metadata": {
        "id": "e8YQNEL-G8C6"
      },
      "execution_count": null,
      "outputs": []
    },
    {
      "cell_type": "markdown",
      "source": [
        "* y_test ---> true labels\n",
        "* y_pred -----> predicted labels"
      ],
      "metadata": {
        "id": "GIuRyZ11OBzp"
      }
    },
    {
      "cell_type": "code",
      "source": [
        "#converting the prediction prob to class label for all test data points\n",
        "y_pred_labels = [np.argmax(i) for i in y_pred]\n",
        "print(y_pred_labels)"
      ],
      "metadata": {
        "id": "mxh0OjCuMUH4"
      },
      "execution_count": null,
      "outputs": []
    },
    {
      "cell_type": "markdown",
      "source": [
        "**Confusion matrix**"
      ],
      "metadata": {
        "id": "TVp6IIZTOkyf"
      }
    },
    {
      "cell_type": "code",
      "source": [
        "conf_mat = confusion_matrix(y_test,y_pred_labels)\n",
        "print(conf_mat)"
      ],
      "metadata": {
        "id": "kfFliYMrN13g"
      },
      "execution_count": null,
      "outputs": []
    },
    {
      "cell_type": "code",
      "source": [
        "plt.figure(figsize=(15,7))\n",
        "sns.heatmap(conf_mat , annot=True,fmt='d',cmap='Blues')\n",
        "plt.ylabel('True Labels')\n",
        "plt.xlabel('Predicted Labels')"
      ],
      "metadata": {
        "id": "7Y6JTFGSPENd"
      },
      "execution_count": null,
      "outputs": []
    },
    {
      "cell_type": "markdown",
      "source": [
        "# **` Building Predictive System`**"
      ],
      "metadata": {
        "id": "CWIN0e3hSAii"
      }
    },
    {
      "cell_type": "code",
      "source": [
        "input_image_path='/content/mnist0.png'\n",
        "input_image =cv2.imread(input_image_path)"
      ],
      "metadata": {
        "id": "GwUgTs8RQl1Z"
      },
      "execution_count": null,
      "outputs": []
    },
    {
      "cell_type": "code",
      "source": [
        "\n",
        "type(input_image )"
      ],
      "metadata": {
        "id": "8BCCr6tcUGUP"
      },
      "execution_count": null,
      "outputs": []
    },
    {
      "cell_type": "code",
      "source": [
        "\n",
        "print(input_image )"
      ],
      "metadata": {
        "id": "_B9kqWt1ULYX"
      },
      "execution_count": null,
      "outputs": []
    },
    {
      "cell_type": "code",
      "source": [
        "cv2_imshow(input_image)\n",
        "\n"
      ],
      "metadata": {
        "id": "9wi_sU2OUyeR"
      },
      "execution_count": null,
      "outputs": []
    },
    {
      "cell_type": "code",
      "source": [
        "input_image.shape"
      ],
      "metadata": {
        "id": "znkoRau_YXH4"
      },
      "execution_count": null,
      "outputs": []
    },
    {
      "cell_type": "code",
      "source": [
        "grayscale = cv2.cvtColor(input_image,cv2.COLOR_RGB2GRAY)\n",
        "#converting rgb tp grayscale"
      ],
      "metadata": {
        "id": "Ha-S2RmsVKcV"
      },
      "execution_count": null,
      "outputs": []
    },
    {
      "cell_type": "code",
      "source": [
        "grayscale.shape\n",
        "\n"
      ],
      "metadata": {
        "id": "-jP2lFtlX5Bz"
      },
      "execution_count": null,
      "outputs": []
    },
    {
      "cell_type": "code",
      "source": [
        "input_image_resize =cv2.resize(grayscale,(28,28))"
      ],
      "metadata": {
        "id": "_RnyNpAlYvf9"
      },
      "execution_count": null,
      "outputs": []
    },
    {
      "cell_type": "code",
      "source": [
        "input_image_resize.shape"
      ],
      "metadata": {
        "id": "pXUFmp7yZNxm"
      },
      "execution_count": null,
      "outputs": []
    },
    {
      "cell_type": "code",
      "source": [
        "cv2_imshow(input_image_resize)"
      ],
      "metadata": {
        "id": "168L85OcZXKY"
      },
      "execution_count": null,
      "outputs": []
    },
    {
      "cell_type": "code",
      "source": [
        "input_image_resize =input_image_resize /255"
      ],
      "metadata": {
        "id": "bvuu3NsAZn7j"
      },
      "execution_count": null,
      "outputs": []
    },
    {
      "cell_type": "code",
      "source": [
        "type(input_image_resize)"
      ],
      "metadata": {
        "id": "ZJ0_5XODb1kw"
      },
      "execution_count": null,
      "outputs": []
    },
    {
      "cell_type": "code",
      "source": [
        "image_reshaped = np.reshape(input_image_resize,[1,28,28])\n",
        "#predict  the value for one image  and  the dimension of this image is 28.if we skip this our prediction we throw an error"
      ],
      "metadata": {
        "id": "sYlUh39LZ3dK"
      },
      "execution_count": null,
      "outputs": []
    },
    {
      "cell_type": "code",
      "source": [
        "input_prediction= model.predict(image_reshaped)\n",
        "print(input_prediction)\n"
      ],
      "metadata": {
        "id": "xaFH2mYAbTC1"
      },
      "execution_count": null,
      "outputs": []
    },
    {
      "cell_type": "code",
      "source": [
        "input_pred_label = np.argmax(input_prediction)"
      ],
      "metadata": {
        "id": "ImPRx4UiaGUz"
      },
      "execution_count": null,
      "outputs": []
    },
    {
      "cell_type": "code",
      "source": [
        "print(input_pred_label)"
      ],
      "metadata": {
        "id": "eKOjSYVObJ1Y"
      },
      "execution_count": null,
      "outputs": []
    },
    {
      "cell_type": "markdown",
      "source": [
        "# **`Predictive System`**"
      ],
      "metadata": {
        "id": "CUQNVHAueIUJ"
      }
    },
    {
      "cell_type": "code",
      "source": [
        "input_image_path=input('path of the image to be predicted')\n",
        "input_image =cv2.imread(input_image_path)\n",
        "\n",
        "\n",
        "cv2_imshow(input_image)\n",
        "grayscale = cv2.cvtColor(input_image,cv2.COLOR_RGB2GRAY)\n",
        "input_image_resize =cv2.resize(grayscale,(28,28))\n",
        "input_image_resize =input_image_resize /255\n",
        "image_reshaped = np.reshape(input_image_resize,[1,28,28])\n",
        "input_prediction= model.predict(image_reshaped)\n",
        "input_pred_label = np.argmax(input_prediction)\n",
        "print('The Handwriteen Digit is recognized as',input_pred_label)"
      ],
      "metadata": {
        "id": "xuQe9dADcjYt"
      },
      "execution_count": null,
      "outputs": []
    }
  ]
}