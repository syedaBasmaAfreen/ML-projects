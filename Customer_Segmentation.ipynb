{
  "nbformat": 4,
  "nbformat_minor": 0,
  "metadata": {
    "colab": {
      "private_outputs": true,
      "provenance": [],
      "authorship_tag": "ABX9TyM5VigZl5cLS9SUbmgVuirF",
      "include_colab_link": true
    },
    "kernelspec": {
      "name": "python3",
      "display_name": "Python 3"
    },
    "language_info": {
      "name": "python"
    }
  },
  "cells": [
    {
      "cell_type": "markdown",
      "metadata": {
        "id": "view-in-github",
        "colab_type": "text"
      },
      "source": [
        "<a href=\"https://colab.research.google.com/github/syedaBasmaAfreen/ML-projects/blob/main/Customer_Segmentation.ipynb\" target=\"_parent\"><img src=\"https://colab.research.google.com/assets/colab-badge.svg\" alt=\"Open In Colab\"/></a>"
      ]
    },
    {
      "cell_type": "markdown",
      "source": [
        "⌨"
      ],
      "metadata": {
        "id": "iMafIgZouFCv"
      }
    },
    {
      "cell_type": "markdown",
      "source": [
        "\n",
        "#  Data Collection and preprocessing"
      ],
      "metadata": {
        "id": "9SziuQoxoelr"
      }
    },
    {
      "cell_type": "markdown",
      "source": [
        "***Importing DependeNcies***"
      ],
      "metadata": {
        "id": "tRuCJiaJuhLG"
      }
    },
    {
      "cell_type": "code",
      "source": [
        "import pandas as pd\n",
        "import numpy as np\n",
        "import matplotlib.pyplot as plt\n",
        "import seaborn as sns\n",
        "\n",
        "from sklearn.cluster  import KMeans"
      ],
      "metadata": {
        "id": "JW_tYKBQlTma"
      },
      "execution_count": null,
      "outputs": []
    },
    {
      "cell_type": "code",
      "execution_count": null,
      "metadata": {
        "id": "bkeqOIJlkrN6"
      },
      "outputs": [],
      "source": [
        "# Load the data from csv file to Pandas DataFrame\n",
        "customer_data=pd.read_csv('/content/Mall_Customers.csv')\n",
        "customer_data"
      ]
    },
    {
      "cell_type": "code",
      "source": [
        "# number of rows and Columns\n",
        "customer_data.shape"
      ],
      "metadata": {
        "id": "2y6AGWOql8qG"
      },
      "execution_count": null,
      "outputs": []
    },
    {
      "cell_type": "code",
      "source": [
        "# getting some info about the data\n",
        "customer_data.info()"
      ],
      "metadata": {
        "id": "zSAWKNVclSEL"
      },
      "execution_count": null,
      "outputs": []
    },
    {
      "cell_type": "code",
      "source": [
        "# checking the number of missing values in each column\n",
        "customer_data.isnull().sum()"
      ],
      "metadata": {
        "id": "n7-bchnJlR9n"
      },
      "execution_count": null,
      "outputs": []
    },
    {
      "cell_type": "code",
      "source": [
        "#customer_data.Gender_Type.value_counts()"
      ],
      "metadata": {
        "id": "RNVNlTdClR28"
      },
      "execution_count": null,
      "outputs": []
    },
    {
      "cell_type": "markdown",
      "source": [
        "* *slice the dataset based on the values of rows & columns*\n",
        "* *Choosing the annual income column & spending score column*"
      ],
      "metadata": {
        "id": "ea-kZ7vZng8v"
      }
    },
    {
      "cell_type": "code",
      "source": [
        "X=customer_data.iloc[:,[3,4]].values"
      ],
      "metadata": {
        "id": "tkHfqgX4nRvF"
      },
      "execution_count": null,
      "outputs": []
    },
    {
      "cell_type": "code",
      "source": [
        "print(X)"
      ],
      "metadata": {
        "id": "ht1C2wuRnk7s"
      },
      "execution_count": null,
      "outputs": []
    },
    {
      "cell_type": "markdown",
      "source": [
        "***Chossing the no. of clusters***"
      ],
      "metadata": {
        "id": "ecxtjuSdn--0"
      }
    },
    {
      "cell_type": "markdown",
      "source": [
        "WCSS= within clusters sum of squares"
      ],
      "metadata": {
        "id": "Vb3h07mbwu3W"
      }
    },
    {
      "cell_type": "code",
      "source": [
        "#finding wcss value for different number of clusters\n",
        "\n",
        "for i in  range(1,11):\n",
        "  kmeans=KMeans(n_clusters = i,init='k-means++',random_state= 42)\n",
        "  kmeans.fit(X)\n",
        "  wcss.append(kmeans.inertia_)"
      ],
      "metadata": {
        "id": "5KH9A6SAn-pG"
      },
      "execution_count": null,
      "outputs": []
    },
    {
      "cell_type": "code",
      "source": [
        "#plot an elbow graph\n",
        "sns.set()\n",
        "plt.plot(range(1,11),wcss)\n",
        "plt.title('The elbow point graph')\n",
        "plt.xlabel('Number of clusters')\n",
        "plt.ylabel('WCSS')\n",
        "plt.show()"
      ],
      "metadata": {
        "id": "qRMFWLUaqcdz"
      },
      "execution_count": null,
      "outputs": []
    },
    {
      "cell_type": "markdown",
      "source": [
        "optimum no. of cluster sis 5"
      ],
      "metadata": {
        "id": "TPNO8uVpsnLS"
      }
    },
    {
      "cell_type": "markdown",
      "source": [
        "*Training the k means clustering*"
      ],
      "metadata": {
        "id": "QFb7KHJts75y"
      }
    },
    {
      "cell_type": "code",
      "source": [
        "kmeans=KMeans(n_clusters = 5,init='k-means++',random_state= 0)\n",
        "Y=kmeans.fit_predict(X)\n",
        "Y"
      ],
      "metadata": {
        "id": "bXrqdKy7qcZy"
      },
      "execution_count": null,
      "outputs": []
    },
    {
      "cell_type": "markdown",
      "source": [
        "*Visualizing all the Clusters*"
      ],
      "metadata": {
        "id": "KqreHysit-V5"
      }
    },
    {
      "cell_type": "code",
      "source": [
        "plt.figure(figsize=(8,8))\n",
        "plt.scatter(X[Y==0,0],X[Y==0,1],s=50, c='green',label='Cluster 1')\n",
        "plt.scatter(X[Y==1,0],X[Y==1,1],s=50, c='red',label='Cluster 2')\n",
        "plt.scatter(X[Y==2,0],X[Y==2,1],s=50, c='violet',label='Cluster 3')\n",
        "plt.scatter(X[Y==3,0],X[Y==3,1],s=50, c='yellow',label='Cluster 4')\n",
        "plt.scatter(X[Y==4,0],X[Y==4,1],s=50, c='blue',label='Cluster 5')\n",
        "\n",
        "#plot the centroids\n",
        "plt.scatter(kmeans.cluster_centers_[:,0],kmeans.cluster_centers_[:, 1],s=100,c='cyan')\n",
        "\n",
        "plt.title('Customer Groups')\n",
        "plt.xlabel('Annual Income')\n",
        "plt.ylabel('Spending Score')\n",
        "plt.show()"
      ],
      "metadata": {
        "id": "i5MKw0cZqcOW"
      },
      "execution_count": null,
      "outputs": []
    }
  ]
}