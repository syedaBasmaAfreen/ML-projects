{
  "nbformat": 4,
  "nbformat_minor": 0,
  "metadata": {
    "colab": {
      "private_outputs": true,
      "provenance": [],
      "authorship_tag": "ABX9TyO2bzWVJAl61Bik4AS/xvVf",
      "include_colab_link": true
    },
    "kernelspec": {
      "name": "python3",
      "display_name": "Python 3"
    },
    "language_info": {
      "name": "python"
    }
  },
  "cells": [
    {
      "cell_type": "markdown",
      "metadata": {
        "id": "view-in-github",
        "colab_type": "text"
      },
      "source": [
        "<a href=\"https://colab.research.google.com/github/syedaBasmaAfreen/ML-projects/blob/main/car__price_prediction.ipynb\" target=\"_parent\"><img src=\"https://colab.research.google.com/assets/colab-badge.svg\" alt=\"Open In Colab\"/></a>"
      ]
    },
    {
      "cell_type": "markdown",
      "source": [
        "⌨"
      ],
      "metadata": {
        "id": "iMafIgZouFCv"
      }
    },
    {
      "cell_type": "markdown",
      "source": [
        "\n",
        "#  Data Collection and preprocessing"
      ],
      "metadata": {
        "id": "9SziuQoxoelr"
      }
    },
    {
      "cell_type": "markdown",
      "source": [
        "**Importing Dependencies**"
      ],
      "metadata": {
        "id": "_4xojFybno9x"
      }
    },
    {
      "cell_type": "code",
      "source": [
        "import pandas as pd\n",
        "import numpy as np\n",
        "import matplotlib.pyplot as plt\n",
        "import seaborn as sns\n",
        "from sklearn.model_selection import train_test_split\n",
        "from sklearn.linear_model  import LinearRegression\n",
        "from sklearn.linear_model import Lasso\n",
        "from sklearn  import metrics"
      ],
      "metadata": {
        "id": "X7zZoBFQWDk0"
      },
      "execution_count": null,
      "outputs": []
    },
    {
      "cell_type": "code",
      "execution_count": null,
      "metadata": {
        "id": "jrB7GdnNVOzy"
      },
      "outputs": [],
      "source": [
        "# Load the data from csv file to Pandas DataFrame\n",
        "car=pd.read_csv('/content/car data.csv')\n",
        "car"
      ]
    },
    {
      "cell_type": "code",
      "source": [
        "# getting some info about the data\n",
        "car.info()"
      ],
      "metadata": {
        "id": "9LEGw80Ggr77"
      },
      "execution_count": null,
      "outputs": []
    },
    {
      "cell_type": "code",
      "source": [
        "# checking the number of missing values in each column\n",
        "car.isnull().sum()\n"
      ],
      "metadata": {
        "id": "-H5l8EyYWjoT"
      },
      "execution_count": null,
      "outputs": []
    },
    {
      "cell_type": "code",
      "source": [
        "# number of rows and Columns\n",
        "car.shape"
      ],
      "metadata": {
        "id": "u-ZSJ0FwWoNP"
      },
      "execution_count": null,
      "outputs": []
    },
    {
      "cell_type": "markdown",
      "source": [
        "cheking  the distribution of categorial data"
      ],
      "metadata": {
        "id": "3fOuOFE-p506"
      }
    },
    {
      "cell_type": "code",
      "source": [
        "#cheking  the distribution of categorial data\n",
        "car.Fuel_Type.value_counts()"
      ],
      "metadata": {
        "id": "oTAnsz7nheBT"
      },
      "execution_count": null,
      "outputs": []
    },
    {
      "cell_type": "code",
      "source": [
        "car.Seller_Type.value_counts()"
      ],
      "metadata": {
        "id": "H4qegKxKhd88"
      },
      "execution_count": null,
      "outputs": []
    },
    {
      "cell_type": "code",
      "source": [
        "car.Transmission.value_counts()"
      ],
      "metadata": {
        "id": "PFAF45SJikbM"
      },
      "execution_count": null,
      "outputs": []
    },
    {
      "cell_type": "markdown",
      "source": [
        "enccoding the  categorial data"
      ],
      "metadata": {
        "id": "m_nqGiX1i9Sv"
      }
    },
    {
      "cell_type": "code",
      "source": [
        "car.replace({'Fuel_Type':{'Petrol':0,'Diesel':1,'CNG':2}},inplace=True)"
      ],
      "metadata": {
        "id": "5nTQIKY-i8eA"
      },
      "execution_count": null,
      "outputs": []
    },
    {
      "cell_type": "code",
      "source": [
        "car.replace({'Seller_Type':{'Dealer':0,'Individual':1}},inplace=True)"
      ],
      "metadata": {
        "id": "Kq6VWaoZi8aU"
      },
      "execution_count": null,
      "outputs": []
    },
    {
      "cell_type": "code",
      "source": [
        "car.replace({'Transmission':{'Manual':0,'Automatic':1}},inplace=True)"
      ],
      "metadata": {
        "id": "tLD1_6Eti8Vq"
      },
      "execution_count": null,
      "outputs": []
    },
    {
      "cell_type": "code",
      "source": [
        "car.head(20)"
      ],
      "metadata": {
        "id": "qmL5MMFOkODs"
      },
      "execution_count": null,
      "outputs": []
    },
    {
      "cell_type": "code",
      "source": [
        "car.tail(20)"
      ],
      "metadata": {
        "id": "gTz9evUPkwdy"
      },
      "execution_count": null,
      "outputs": []
    },
    {
      "cell_type": "markdown",
      "source": [
        "Separating features and target"
      ],
      "metadata": {
        "id": "M1ZEwtS0qOHz"
      }
    },
    {
      "cell_type": "code",
      "source": [
        "X=car.drop(['Car_Name','Selling_Price'],axis=1)\n",
        "y=car['Selling_Price']\n",
        "\n"
      ],
      "metadata": {
        "id": "4vX59YtJme4z"
      },
      "execution_count": null,
      "outputs": []
    },
    {
      "cell_type": "code",
      "source": [
        "X"
      ],
      "metadata": {
        "id": "7kPwAAq0qpBj"
      },
      "execution_count": null,
      "outputs": []
    },
    {
      "cell_type": "code",
      "source": [
        "y"
      ],
      "metadata": {
        "id": "p3v-teaxqqCz"
      },
      "execution_count": null,
      "outputs": []
    },
    {
      "cell_type": "markdown",
      "source": [
        "Splitting the data into training and testing"
      ],
      "metadata": {
        "id": "7rFXnd57qbdC"
      }
    },
    {
      "cell_type": "code",
      "source": [
        "X_train,X_test, y_train ,y_test=train_test_split(X,y, test_size=0.1, random_state=2)"
      ],
      "metadata": {
        "id": "zJtfXgmfkwSu"
      },
      "execution_count": null,
      "outputs": []
    },
    {
      "cell_type": "code",
      "source": [
        "print(X.shape, X_train.shape, X_test.shape)"
      ],
      "metadata": {
        "id": "Cr7EQlJjqedA"
      },
      "execution_count": null,
      "outputs": []
    },
    {
      "cell_type": "markdown",
      "source": [
        "MODEL TRAINING"
      ],
      "metadata": {
        "id": "4POHYdcgooOF"
      }
    },
    {
      "cell_type": "code",
      "source": [
        "# LOADING THE  LINAR REGRESSION MODEL\n",
        "lin_reg_model=LinearRegression()"
      ],
      "metadata": {
        "id": "GN-4WH7ioiFS"
      },
      "execution_count": null,
      "outputs": []
    },
    {
      "cell_type": "code",
      "source": [
        "##Training the LINAR REGRESSIO model with training data\n",
        "lin_reg_model.fit(X_train,y_train)"
      ],
      "metadata": {
        "id": "6gCcackKWrn4"
      },
      "execution_count": null,
      "outputs": []
    },
    {
      "cell_type": "markdown",
      "source": [
        "Model Evalution"
      ],
      "metadata": {
        "id": "dZTSwrKXpqSZ"
      }
    },
    {
      "cell_type": "code",
      "source": [
        "#prdiction on training data\n",
        "training_data_prediction=lin_reg_model.predict(X_train)"
      ],
      "metadata": {
        "id": "TlmIwtQWpO0R"
      },
      "execution_count": null,
      "outputs": []
    },
    {
      "cell_type": "code",
      "source": [
        "#R square error\n",
        "error_score=metrics.r2_score(y_train, training_data_prediction)\n",
        "print(\"R squared Error: \", error_score)"
      ],
      "metadata": {
        "id": "5auIR07sqOuc"
      },
      "execution_count": null,
      "outputs": []
    },
    {
      "cell_type": "markdown",
      "source": [
        "visualize the actual prices & Predicted prices"
      ],
      "metadata": {
        "id": "N767mgcXroW_"
      }
    },
    {
      "cell_type": "code",
      "source": [
        "plt.scatter(y_train,training_data_prediction)\n",
        "plt.xlabel(\"Actual Price\")\n",
        "plt.ylabel(\"Predicted Price\")\n",
        "plt.title(\"Actual Price vs Predicted Price \")\n",
        "plt.show()"
      ],
      "metadata": {
        "id": "uFA1Q5mxqOqm"
      },
      "execution_count": null,
      "outputs": []
    },
    {
      "cell_type": "code",
      "source": [
        "#perdiction on training data\n",
        "test_data_prediction=lin_reg_model.predict(X_test)"
      ],
      "metadata": {
        "id": "CjrF4G11s5UV"
      },
      "execution_count": null,
      "outputs": []
    },
    {
      "cell_type": "code",
      "source": [
        "#R square error\n",
        "error_score=metrics.r2_score(y_test, test_data_prediction)\n",
        "print(\"R squared Error: \", error_score)"
      ],
      "metadata": {
        "id": "x7F6cmXytCIt"
      },
      "execution_count": null,
      "outputs": []
    },
    {
      "cell_type": "code",
      "source": [
        "plt.scatter(y_test,test_data_prediction)# prac\n",
        "plt.xlabel(\"Actual Price\")\n",
        "plt.ylabel(\"Predicted Price\")\n",
        "plt.title(\"Actual Price vs Predicted Price \")\n",
        "plt.show()"
      ],
      "metadata": {
        "id": "2Icm71Gju3HW"
      },
      "execution_count": null,
      "outputs": []
    },
    {
      "cell_type": "markdown",
      "source": [
        "2. lasso regression"
      ],
      "metadata": {
        "id": "JDgzqY_WuRG3"
      }
    },
    {
      "cell_type": "code",
      "source": [
        "# loading the linear rggression model\n",
        "lass_reg_model=Lasso()"
      ],
      "metadata": {
        "id": "5FoGD-kbuWj6"
      },
      "execution_count": null,
      "outputs": []
    },
    {
      "cell_type": "code",
      "source": [
        "lass_reg_model.fit(X_train,y_train)"
      ],
      "metadata": {
        "id": "BbKHxWeduXH7"
      },
      "execution_count": null,
      "outputs": []
    },
    {
      "cell_type": "markdown",
      "source": [
        "Model Evalution"
      ],
      "metadata": {
        "id": "VVBP-0G3vDGb"
      }
    },
    {
      "cell_type": "code",
      "source": [
        "#prdiction on training data\n",
        "training_data_prediction=lass_reg_model.predict(X_train)"
      ],
      "metadata": {
        "id": "C9_NEm2Ps_vQ"
      },
      "execution_count": null,
      "outputs": []
    },
    {
      "cell_type": "code",
      "source": [
        "#R square error\n",
        "error_score=metrics.r2_score(y_train, training_data_prediction)\n",
        "print(\"R squared Error: \", error_score)"
      ],
      "metadata": {
        "id": "ZG8ZMtgxs_vm"
      },
      "execution_count": null,
      "outputs": []
    },
    {
      "cell_type": "markdown",
      "source": [
        "visualize the actual prices & Predicted prices"
      ],
      "metadata": {
        "id": "BVQemDFXs_vn"
      }
    },
    {
      "cell_type": "code",
      "source": [
        "plt.scatter(y_train,training_data_prediction)\n",
        "plt.xlabel(\"Actual Price\")\n",
        "plt.ylabel(\"Predicted Price\")\n",
        "plt.title(\"Actual Price vs Predicted Price \")\n",
        "plt.show()"
      ],
      "metadata": {
        "id": "d7TbT9V0s_vo"
      },
      "execution_count": null,
      "outputs": []
    },
    {
      "cell_type": "code",
      "source": [
        "#perdiction on training data\n",
        "test_data_prediction=lass_reg_model.predict(X_test)"
      ],
      "metadata": {
        "id": "t3J7eC3ps_vp"
      },
      "execution_count": null,
      "outputs": []
    },
    {
      "cell_type": "code",
      "source": [
        "#R square error\n",
        "error_score=metrics.r2_score(y_test, test_data_prediction)\n",
        "print(\"R squared Error: \", error_score)"
      ],
      "metadata": {
        "id": "3O7ymhRIs_vr"
      },
      "execution_count": null,
      "outputs": []
    },
    {
      "cell_type": "markdown",
      "source": [
        "visualize the actual prices & Predicted prices"
      ],
      "metadata": {
        "id": "l0IY2VbMt6pl"
      }
    },
    {
      "cell_type": "code",
      "source": [
        "plt.scatter(y_test,test_data_prediction)# prac\n",
        "plt.xlabel(\"Actual Price\")\n",
        "plt.ylabel(\"Predicted Price\")\n",
        "plt.title(\"Actual Price vs Predicted Price \")\n",
        "plt.show()"
      ],
      "metadata": {
        "id": "J2753kIFs_vs"
      },
      "execution_count": null,
      "outputs": []
    }
  ]
}