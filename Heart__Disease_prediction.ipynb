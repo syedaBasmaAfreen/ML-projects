{
  "nbformat": 4,
  "nbformat_minor": 0,
  "metadata": {
    "colab": {
      "private_outputs": true,
      "provenance": [],
      "authorship_tag": "ABX9TyO3el03tFqH61pk8xDjrRY/",
      "include_colab_link": true
    },
    "kernelspec": {
      "name": "python3",
      "display_name": "Python 3"
    },
    "language_info": {
      "name": "python"
    }
  },
  "cells": [
    {
      "cell_type": "markdown",
      "metadata": {
        "id": "view-in-github",
        "colab_type": "text"
      },
      "source": [
        "<a href=\"https://colab.research.google.com/github/syedaBasmaAfreen/ML-projects/blob/main/Heart__Disease_prediction.ipynb\" target=\"_parent\"><img src=\"https://colab.research.google.com/assets/colab-badge.svg\" alt=\"Open In Colab\"/></a>"
      ]
    },
    {
      "cell_type": "markdown",
      "source": [],
      "metadata": {
        "id": "3Hi5ixrs0ilz"
      }
    },
    {
      "cell_type": "markdown",
      "source": [
        "\n",
        "⌨\n",
        "\n",
        "# Data Collection and preprocessing"
      ],
      "metadata": {
        "id": "TrN1Oalh0iY1"
      }
    },
    {
      "cell_type": "markdown",
      "source": [
        "***import libraries***"
      ],
      "metadata": {
        "id": "fhcE9geRAVDx"
      }
    },
    {
      "cell_type": "code",
      "execution_count": null,
      "metadata": {
        "id": "b-noHsRKjzok"
      },
      "outputs": [],
      "source": [
        "import pandas as pd\n",
        "import numpy as np\n",
        "import matplotlib.pyplot as plt\n",
        "import seaborn as sns\n",
        "from sklearn.model_selection import train_test_split\n",
        "from sklearn.linear_model  import LogisticRegression\n",
        "from sklearn.metrics import accuracy_score\n"
      ]
    },
    {
      "cell_type": "code",
      "source": [
        "hd=pd.read_csv('/content/heart.csv')\n",
        "hd"
      ],
      "metadata": {
        "id": "pL72vF5mmklq"
      },
      "execution_count": null,
      "outputs": []
    },
    {
      "cell_type": "code",
      "source": [
        "hd.shape"
      ],
      "metadata": {
        "id": "Xx_hS_qFB3Rm"
      },
      "execution_count": null,
      "outputs": []
    },
    {
      "cell_type": "code",
      "source": [
        "hd.info()"
      ],
      "metadata": {
        "id": "jwwn27W5m8-S"
      },
      "execution_count": null,
      "outputs": []
    },
    {
      "cell_type": "code",
      "source": [
        "hd.isnull().sum()"
      ],
      "metadata": {
        "id": "QpCIz6vXnuQu"
      },
      "execution_count": null,
      "outputs": []
    },
    {
      "cell_type": "code",
      "source": [
        "hd.describe()"
      ],
      "metadata": {
        "id": "gCGLW7eMoJAq"
      },
      "execution_count": null,
      "outputs": []
    },
    {
      "cell_type": "code",
      "source": [
        "hd.sex.value_counts()"
      ],
      "metadata": {
        "id": "mHcCSrtEoewJ"
      },
      "execution_count": null,
      "outputs": []
    },
    {
      "cell_type": "code",
      "source": [
        "hd.target.value_counts()"
      ],
      "metadata": {
        "id": "odYyVIpmE-UG"
      },
      "execution_count": null,
      "outputs": []
    },
    {
      "cell_type": "code",
      "source": [
        "hd.cp.value_counts()"
      ],
      "metadata": {
        "id": "ukb7qsCaF0ZQ"
      },
      "execution_count": null,
      "outputs": []
    },
    {
      "cell_type": "code",
      "source": [
        "hd.replace({'sex':{'male':0,'female':1,}},inplace=True)"
      ],
      "metadata": {
        "id": "XsPBAcMPG4yi"
      },
      "execution_count": null,
      "outputs": []
    },
    {
      "cell_type": "code",
      "source": [
        "hd.head()"
      ],
      "metadata": {
        "id": "xUOZVWmgHLZV"
      },
      "execution_count": null,
      "outputs": []
    },
    {
      "cell_type": "code",
      "source": [
        "hd=hd.rename(columns={'cp' : 'chest_pain','thalach' : 'max heart rate-achieved'})\n",
        "hd"
      ],
      "metadata": {
        "id": "B5Oq2WhRHokN"
      },
      "execution_count": null,
      "outputs": []
    },
    {
      "cell_type": "code",
      "source": [
        "hd4=hd.drop(['trestbps','chol','fbs','restecg','exang','oldpeak','slope','ca'], axis=1)\n",
        "hd4"
      ],
      "metadata": {
        "id": "scaStUWEIj5A"
      },
      "execution_count": null,
      "outputs": []
    },
    {
      "cell_type": "code",
      "source": [
        "hd.loc[(hd.sex=='male') &(hd.chest_pain==2) & (hd.target==1) & (hd.age<=40)]"
      ],
      "metadata": {
        "id": "VAprd1rNbwrR"
      },
      "execution_count": null,
      "outputs": []
    },
    {
      "cell_type": "markdown",
      "source": [
        "Data Visualization"
      ],
      "metadata": {
        "id": "S1qxB-qDO74K"
      }
    },
    {
      "cell_type": "code",
      "source": [
        "sns.set()"
      ],
      "metadata": {
        "id": "J2-Swz_zOvXf"
      },
      "execution_count": null,
      "outputs": []
    },
    {
      "cell_type": "code",
      "source": [
        "sns.countplot(x=hd['sex'], data=hd,palette=['lightpink','lightskyblue'])\n",
        "\n",
        "\n"
      ],
      "metadata": {
        "id": "oSEQNffrVYOY"
      },
      "execution_count": null,
      "outputs": []
    },
    {
      "cell_type": "code",
      "source": [
        "from matplotlib.widgets import SpanSelector\n",
        "# making a count plot for \"Survived\" column\n",
        "sns.fig(figsize=[6,8])\n",
        "sns.countplot(x=hd['target'], data=hd,palette=['gray','silver'])"
      ],
      "metadata": {
        "id": "hi_ae1BeR9vw"
      },
      "execution_count": null,
      "outputs": []
    },
    {
      "cell_type": "code",
      "source": [
        "#Number of people who got heart attack\n",
        "sns.countplot(x='sex',hue='target',data=hd,palette=['lightgreen','steelblue'])"
      ],
      "metadata": {
        "id": "m7qV6suJXnjp"
      },
      "execution_count": null,
      "outputs": []
    },
    {
      "cell_type": "code",
      "source": [
        "# making a count plot for \"Survived\" column\n",
        "\n",
        "sns.countplot(x=hd['age'], data=hd)"
      ],
      "metadata": {
        "id": "egJRSLh4SQEf"
      },
      "execution_count": null,
      "outputs": []
    },
    {
      "cell_type": "code",
      "source": [
        "# making a count plot for \"Survived\" column\n",
        "sns.countplot(x=hd['chest_pain'],data=hd,palette=['#FC05FB', '#FEAEFE', '#FCD2FC','#F3FEFA'])\n",
        "# sns.countplot(x=hd['age'], data=hd,palette='m')"
      ],
      "metadata": {
        "id": "8UteilyeTNRp"
      },
      "execution_count": null,
      "outputs": []
    },
    {
      "cell_type": "markdown",
      "source": [
        "Separating features and target"
      ],
      "metadata": {
        "id": "SyDV4XWCbnxL"
      }
    },
    {
      "cell_type": "code",
      "source": [
        "X=hd.drop(columns=['sex','chest_pain','trestbps','target'],axis=1)\n",
        "y=hd['target']\n"
      ],
      "metadata": {
        "id": "iq1JP6C5diBA"
      },
      "execution_count": null,
      "outputs": []
    },
    {
      "cell_type": "code",
      "source": [
        "print(X)"
      ],
      "metadata": {
        "id": "UOxqd5jmeK-U"
      },
      "execution_count": null,
      "outputs": []
    },
    {
      "cell_type": "code",
      "source": [
        "y"
      ],
      "metadata": {
        "id": "zVot_PjX8ZY9"
      },
      "execution_count": null,
      "outputs": []
    },
    {
      "cell_type": "markdown",
      "source": [
        "Splitting the data into training and testing"
      ],
      "metadata": {
        "id": "6aJEEuZS8svs"
      }
    },
    {
      "cell_type": "code",
      "source": [
        "X_train,X_test, y_train ,y_test=train_test_split(X,y, test_size=0.1, random_state=2)\n",
        "\n"
      ],
      "metadata": {
        "id": "41YB28uCgER-"
      },
      "execution_count": null,
      "outputs": []
    },
    {
      "cell_type": "code",
      "source": [
        "print(X.shape, X_train.shape, X_test.shape)"
      ],
      "metadata": {
        "id": "egYFTVXCz2tY"
      },
      "execution_count": null,
      "outputs": []
    },
    {
      "cell_type": "markdown",
      "source": [],
      "metadata": {
        "id": "rpZegbEW-BwS"
      }
    },
    {
      "cell_type": "markdown",
      "source": [
        "***Logistic  Regression***"
      ],
      "metadata": {
        "id": "MB2Tx6PGY7YX"
      }
    },
    {
      "cell_type": "code",
      "source": [
        "model = LogisticRegression()"
      ],
      "metadata": {
        "id": "sVf4GqpfY64F"
      },
      "execution_count": null,
      "outputs": []
    },
    {
      "cell_type": "code",
      "source": [
        "#Training the Logistic Regression model with training data\n",
        "model.fit(X_train, y_train)"
      ],
      "metadata": {
        "id": "FT8O6zUhYpey"
      },
      "execution_count": null,
      "outputs": []
    },
    {
      "cell_type": "markdown",
      "source": [
        "Model Evaluation\n",
        "\n",
        "***Accuracy score***"
      ],
      "metadata": {
        "id": "muzgfjgAZixe"
      }
    },
    {
      "cell_type": "code",
      "source": [
        "#Accuracy on training data\n",
        "X_train_prediction = model.predict(X_train)"
      ],
      "metadata": {
        "id": "kolTtKeEZm-M"
      },
      "execution_count": null,
      "outputs": []
    },
    {
      "cell_type": "code",
      "source": [
        "X_train_prediction"
      ],
      "metadata": {
        "id": "ITgdbQNLZvd8"
      },
      "execution_count": null,
      "outputs": []
    },
    {
      "cell_type": "code",
      "source": [
        "training_data_accuracy = accuracy_score( X_train_prediction,y_train)\n",
        "print('Accuracy score of training data : ', training_data_accuracy)"
      ],
      "metadata": {
        "id": "ZCotgh7cZ6T_"
      },
      "execution_count": null,
      "outputs": []
    },
    {
      "cell_type": "code",
      "source": [
        "# accuracy on test data\n",
        "X_test_prediction = model.predict(X_test)"
      ],
      "metadata": {
        "id": "iChNmRw9aAuQ"
      },
      "execution_count": null,
      "outputs": []
    },
    {
      "cell_type": "code",
      "source": [
        "X_test_prediction"
      ],
      "metadata": {
        "id": "8iuzGXmVaAe5"
      },
      "execution_count": null,
      "outputs": []
    },
    {
      "cell_type": "code",
      "source": [
        "test_data_accuracy = accuracy_score( X_test_prediction,y_test)\n",
        "print('Accuracy score of test data : ', test_data_accuracy)"
      ],
      "metadata": {
        "id": "Fl90QEW4aHzg"
      },
      "execution_count": null,
      "outputs": []
    },
    {
      "cell_type": "code",
      "source": [
        "a=hd[['sex','chest_pain','trestbps','target']]\n",
        "b=hd['target']\n"
      ],
      "metadata": {
        "id": "UVYJclDAAT0X"
      },
      "execution_count": null,
      "outputs": []
    },
    {
      "cell_type": "code",
      "source": [
        "a"
      ],
      "metadata": {
        "id": "uDJnPA0OCLjS"
      },
      "execution_count": null,
      "outputs": []
    },
    {
      "cell_type": "code",
      "source": [
        "b"
      ],
      "metadata": {
        "id": "8-RJZFOACLUR"
      },
      "execution_count": null,
      "outputs": []
    },
    {
      "cell_type": "markdown",
      "source": [],
      "metadata": {
        "id": "e0AQ7rEzDyuv"
      }
    },
    {
      "cell_type": "code",
      "source": [
        "a_train,a_test, b_train ,b_test=train_test_split(a,b, test_size=0.2, random_state=2)\n",
        "\n"
      ],
      "metadata": {
        "id": "liZFSbpNDzWK"
      },
      "execution_count": null,
      "outputs": []
    },
    {
      "cell_type": "code",
      "source": [
        "print(a.shape, a_train.shape, a_test.shape)"
      ],
      "metadata": {
        "id": "CtgfSt5GDzWP"
      },
      "execution_count": null,
      "outputs": []
    },
    {
      "cell_type": "markdown",
      "source": [],
      "metadata": {
        "id": "MtqxqzsADzWT"
      }
    },
    {
      "cell_type": "markdown",
      "source": [
        "***Logistic  Regression***"
      ],
      "metadata": {
        "id": "WVs8UTo_DzWW"
      }
    },
    {
      "cell_type": "code",
      "source": [
        "model = LogisticRegression()"
      ],
      "metadata": {
        "id": "aqEvkI3SDzWZ"
      },
      "execution_count": null,
      "outputs": []
    },
    {
      "cell_type": "code",
      "source": [
        "#Training the Logistic Regression model with training data\n",
        "model.fit(a_train, b_train)"
      ],
      "metadata": {
        "id": "_pb5QIlvDzWd"
      },
      "execution_count": null,
      "outputs": []
    },
    {
      "cell_type": "markdown",
      "source": [
        "Model Evaluation\n",
        "\n",
        "***Accuracy score***"
      ],
      "metadata": {
        "id": "6jvZo32UDzWf"
      }
    },
    {
      "cell_type": "code",
      "source": [
        "#Accuracy on training data\n",
        "a_train_prediction = model.predict(a_train)"
      ],
      "metadata": {
        "id": "warccvpIDzWh"
      },
      "execution_count": null,
      "outputs": []
    },
    {
      "cell_type": "code",
      "source": [
        "a_train_prediction"
      ],
      "metadata": {
        "id": "OXfZWQN7DzWk"
      },
      "execution_count": null,
      "outputs": []
    },
    {
      "cell_type": "code",
      "source": [
        "training_data_accuracy = accuracy_score( a_train_prediction,b_train)\n",
        "print('Accuracy score of training data : ', training_data_accuracy)"
      ],
      "metadata": {
        "id": "D5x487CBDzWm"
      },
      "execution_count": null,
      "outputs": []
    },
    {
      "cell_type": "code",
      "source": [
        "# accuracy on test data\n",
        "a_test_prediction = model.predict(a_test)"
      ],
      "metadata": {
        "id": "0nHjaB6sDzWp"
      },
      "execution_count": null,
      "outputs": []
    },
    {
      "cell_type": "code",
      "source": [
        "a_test_prediction"
      ],
      "metadata": {
        "id": "NwKzztTlDzWr"
      },
      "execution_count": null,
      "outputs": []
    },
    {
      "cell_type": "code",
      "source": [
        "test_data_accuracy = accuracy_score( a_test_prediction,b_test)\n",
        "print('Accuracy score of test data : ', test_data_accuracy)"
      ],
      "metadata": {
        "id": "K3PlmcoaDzWt"
      },
      "execution_count": null,
      "outputs": []
    }
  ]
}