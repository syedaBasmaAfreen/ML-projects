{
  "nbformat": 4,
  "nbformat_minor": 0,
  "metadata": {
    "colab": {
      "private_outputs": true,
      "provenance": [],
      "authorship_tag": "ABX9TyNWkzJfViw5LWo2/4FUo3Jo",
      "include_colab_link": true
    },
    "kernelspec": {
      "name": "python3",
      "display_name": "Python 3"
    },
    "language_info": {
      "name": "python"
    }
  },
  "cells": [
    {
      "cell_type": "markdown",
      "metadata": {
        "id": "view-in-github",
        "colab_type": "text"
      },
      "source": [
        "<a href=\"https://colab.research.google.com/github/syedaBasmaAfreen/ML-projects/blob/main/titanic_survival_prediction.ipynb\" target=\"_parent\"><img src=\"https://colab.research.google.com/assets/colab-badge.svg\" alt=\"Open In Colab\"/></a>"
      ]
    },
    {
      "cell_type": "markdown",
      "source": [
        "# ⌨"
      ],
      "metadata": {
        "id": "-olYiX5ucOk_"
      }
    },
    {
      "cell_type": "code",
      "execution_count": null,
      "metadata": {
        "id": "ATEfuvvXoiZY"
      },
      "outputs": [],
      "source": [
        "import numpy as np\n",
        "import pandas as pd\n",
        "\n"
      ]
    },
    {
      "cell_type": "code",
      "source": [
        "# Load the data from csv file to Pandas DataFrame\n",
        "df=pd.read_csv('/content/train.csv')\n",
        "df"
      ],
      "metadata": {
        "id": "vH8A18rEv40l"
      },
      "execution_count": null,
      "outputs": []
    },
    {
      "cell_type": "code",
      "source": [
        "\n",
        "df.head()"
      ],
      "metadata": {
        "id": "K3JFirrs50-Y"
      },
      "execution_count": null,
      "outputs": []
    },
    {
      "cell_type": "code",
      "source": [
        "df.tail()"
      ],
      "metadata": {
        "id": "Ydp8T11p545f"
      },
      "execution_count": null,
      "outputs": []
    },
    {
      "cell_type": "code",
      "source": [
        "df.shape"
      ],
      "metadata": {
        "id": "qhQt8wgG58YR"
      },
      "execution_count": null,
      "outputs": []
    },
    {
      "cell_type": "code",
      "source": [
        "df.columns"
      ],
      "metadata": {
        "id": "M34vZhyW58T6"
      },
      "execution_count": null,
      "outputs": []
    },
    {
      "cell_type": "code",
      "source": [
        "df['Age'].max()"
      ],
      "metadata": {
        "id": "ZoL4ZEO-UhcL"
      },
      "execution_count": null,
      "outputs": []
    },
    {
      "cell_type": "code",
      "source": [
        "df[df['Age']>40]"
      ],
      "metadata": {
        "id": "ktdtvxTfobO_"
      },
      "execution_count": null,
      "outputs": []
    },
    {
      "cell_type": "code",
      "source": [
        "#check how many people Survived\n",
        "df[df['Survived']==1]\n",
        "\n",
        "\n"
      ],
      "metadata": {
        "id": "RpTbs8aikM-5"
      },
      "execution_count": null,
      "outputs": []
    },
    {
      "cell_type": "markdown",
      "source": [
        "*`slice the dataset based on the values of rows & columns`*"
      ],
      "metadata": {
        "id": "FsdscAGwlaGE"
      }
    },
    {
      "cell_type": "code",
      "source": [
        "df.iloc[: 5, 4:6]"
      ],
      "metadata": {
        "id": "g7zDNAM1liVU"
      },
      "execution_count": null,
      "outputs": []
    },
    {
      "cell_type": "code",
      "source": [
        "df.loc[: 5,[\"Age\",\"Fare\"]] #selecting rows and col"
      ],
      "metadata": {
        "id": "1Q5TccYhj74K"
      },
      "execution_count": null,
      "outputs": []
    },
    {
      "cell_type": "code",
      "source": [
        "df2.loc[(df.Sex=='male') & (df2.Survived==1)&(df2.Embarked=='S')&(df2.Age<=30)]"
      ],
      "metadata": {
        "id": "t7tjpnUsj6li"
      },
      "execution_count": null,
      "outputs": []
    },
    {
      "cell_type": "code",
      "source": [
        "x=df.loc[(df.Age>=20) & (df.Survived==1)]\n",
        "x"
      ],
      "metadata": {
        "id": "3OLNLCGcpHd3"
      },
      "execution_count": null,
      "outputs": []
    },
    {
      "cell_type": "code",
      "source": [
        "x=df.loc[(df.Age>=20)&(df.Sex=='male')]\n",
        "x"
      ],
      "metadata": {
        "id": "Ty_3lLgRr_rq"
      },
      "execution_count": null,
      "outputs": []
    },
    {
      "cell_type": "code",
      "source": [
        "df2.loc[(df.Sex=='male') & (df2.Survived==1)&(df2.Embarked=='S')&(df2.Age<=30)]"
      ],
      "metadata": {
        "id": "Z3EEtjvsg8wW"
      },
      "execution_count": null,
      "outputs": []
    },
    {
      "cell_type": "code",
      "source": [
        "x=df.loc[(df.Pclass==3)&(df.Sex=='male')&(df.Fare>=15.6)]\n",
        "x\n",
        "x.loc[: 10 ,[\"Name\",\"Sex\",\"Pclass\",\"Fare\"]]"
      ],
      "metadata": {
        "id": "xy9HYUy-dRhi"
      },
      "execution_count": null,
      "outputs": []
    },
    {
      "cell_type": "code",
      "source": [
        "df['Sex'].value_counts()\n",
        "\n",
        "#df['Sex'].tolist().count('female')\n",
        "#Or\n",
        "#df['Sex'].value_counts()['male']"
      ],
      "metadata": {
        "id": "7RftwvunsMHH"
      },
      "execution_count": null,
      "outputs": []
    },
    {
      "cell_type": "code",
      "source": [
        "df.drop(['Name' , 'Ticket', 'Fare','Cabin'], axis=1 , inplace=True)"
      ],
      "metadata": {
        "id": "8eaHBzGjsW1E"
      },
      "execution_count": null,
      "outputs": []
    },
    {
      "cell_type": "code",
      "source": [
        "df.info()"
      ],
      "metadata": {
        "id": "4fy9H07wsWmo"
      },
      "execution_count": null,
      "outputs": []
    },
    {
      "cell_type": "code",
      "source": [
        "df['Age'].interpolate(inplace = True)"
      ],
      "metadata": {
        "id": "7H2WicQKxAdY"
      },
      "execution_count": null,
      "outputs": []
    },
    {
      "cell_type": "code",
      "source": [
        "df.info()"
      ],
      "metadata": {
        "id": "6CErrCB8xunV"
      },
      "execution_count": null,
      "outputs": []
    },
    {
      "cell_type": "code",
      "source": [
        "y=pd.get_dummies(df['Embarked'])\n",
        "y"
      ],
      "metadata": {
        "id": "I7tvlyGCyu0z"
      },
      "execution_count": null,
      "outputs": []
    },
    {
      "cell_type": "code",
      "source": [
        "df2=pd.concat([df,y] , axis=1)\n",
        "df2\n"
      ],
      "metadata": {
        "id": "eo0fBtjm09Yj"
      },
      "execution_count": null,
      "outputs": []
    },
    {
      "cell_type": "code",
      "source": [
        "df2.info()"
      ],
      "metadata": {
        "id": "e2fAL-d36asq"
      },
      "execution_count": null,
      "outputs": []
    },
    {
      "cell_type": "markdown",
      "source": [
        "# **Data Collection and preprocessing**"
      ],
      "metadata": {
        "id": "Zk8LjPjPTeb_"
      }
    },
    {
      "cell_type": "markdown",
      "source": [
        "logistic regresion"
      ],
      "metadata": {
        "id": "556zm6t1xVxG"
      }
    },
    {
      "cell_type": "code",
      "source": [
        "import pandas as pd\n",
        "import numpy as np\n",
        "import matplotlib.pyplot as plt\n",
        "import seaborn as sns\n",
        "from sklearn.model_selection import train_test_split\n",
        "from sklearn.linear_model  import LogisticRegression\n",
        "from sklearn.metrics import accuracy_score\n",
        "\n"
      ],
      "metadata": {
        "id": "uNikDkDxxTIP"
      },
      "execution_count": null,
      "outputs": []
    },
    {
      "cell_type": "code",
      "source": [
        "# no. of rows and Columns\n",
        "df2.shape"
      ],
      "metadata": {
        "id": "FMq7LfMBzSNA"
      },
      "execution_count": null,
      "outputs": []
    },
    {
      "cell_type": "code",
      "source": [
        "# getting some info about the data\n",
        "df2.info()"
      ],
      "metadata": {
        "id": "KiDXMCNwxVEU"
      },
      "execution_count": null,
      "outputs": []
    },
    {
      "cell_type": "code",
      "source": [
        "# checking the number of missing values in each column\n",
        "df2.isnull().sum()"
      ],
      "metadata": {
        "id": "QGVNx2cYxU38"
      },
      "execution_count": null,
      "outputs": []
    },
    {
      "cell_type": "markdown",
      "source": [
        "Handling missing values"
      ],
      "metadata": {
        "id": "WULPt1Y8V0UN"
      }
    },
    {
      "cell_type": "code",
      "source": [
        "# Replacing the missing values in \"Age\" column with mean value\n",
        "df2['Age'].fillna(df2['Age'].mean(),inplace=True)"
      ],
      "metadata": {
        "id": "mfHveJwX0INW"
      },
      "execution_count": null,
      "outputs": []
    },
    {
      "cell_type": "code",
      "source": [
        "# Finding the mode value of \"Embarked\" column\n",
        "print(df2['Embarked'].mode())"
      ],
      "metadata": {
        "id": "Xm19Ara40Hyg"
      },
      "execution_count": null,
      "outputs": []
    },
    {
      "cell_type": "markdown",
      "source": [],
      "metadata": {
        "id": "uQlQyLB2Wbu5"
      }
    },
    {
      "cell_type": "code",
      "source": [
        "print(df2['Embarked'].mode()[0])"
      ],
      "metadata": {
        "id": "4HX7DQ6KWiDF"
      },
      "execution_count": null,
      "outputs": []
    },
    {
      "cell_type": "code",
      "source": [
        "# Replacing the missing values in \"Embarked\" column with mode value\n",
        "df2['Embarked'].fillna(df2['Embarked'].mode()[0],inplace=True)"
      ],
      "metadata": {
        "id": "vXPR9txx1IvX"
      },
      "execution_count": null,
      "outputs": []
    },
    {
      "cell_type": "code",
      "source": [
        "#missing values in each column\n",
        "df2.isnull().sum()"
      ],
      "metadata": {
        "id": "ekVc538I1XXx"
      },
      "execution_count": null,
      "outputs": []
    },
    {
      "cell_type": "markdown",
      "source": [
        "Data Analysis"
      ],
      "metadata": {
        "id": "YO4NpzTB2EAD"
      }
    },
    {
      "cell_type": "code",
      "source": [
        "# getting some  statistical  measure  about O The data\n",
        "df3=df2.describe()\n",
        "df3"
      ],
      "metadata": {
        "id": "-k-RaFYg2JT9"
      },
      "execution_count": null,
      "outputs": []
    },
    {
      "cell_type": "code",
      "source": [
        "#Finding the number of people survived and not survived\n",
        "df2['Survived'].value_counts()"
      ],
      "metadata": {
        "id": "krtYxxai2qwc"
      },
      "execution_count": null,
      "outputs": []
    },
    {
      "cell_type": "markdown",
      "source": [
        "Data visualization"
      ],
      "metadata": {
        "id": "ls0zEGUv3Y87"
      }
    },
    {
      "cell_type": "code",
      "source": [
        "sns.set()\n"
      ],
      "metadata": {
        "id": "adeddZNU2-ag"
      },
      "execution_count": null,
      "outputs": []
    },
    {
      "cell_type": "code",
      "source": [
        "# making a count plot for \"Survived\" column\n",
        "sns.countplot(x=df2['Survived'], data=df2)"
      ],
      "metadata": {
        "id": "4HoyMqFg3BWG"
      },
      "execution_count": null,
      "outputs": []
    },
    {
      "cell_type": "code",
      "source": [
        "df2['Sex'].value_counts()\n"
      ],
      "metadata": {
        "id": "qvngDVdR5TZ1"
      },
      "execution_count": null,
      "outputs": []
    },
    {
      "cell_type": "code",
      "source": [
        "#Making a count plot for \"Sex\" column\n",
        "sns.countplot(x='Sex',data=df2)"
      ],
      "metadata": {
        "id": "UIR6z32O589e"
      },
      "execution_count": null,
      "outputs": []
    },
    {
      "cell_type": "code",
      "source": [
        "# making a count plot for \"sex\" coloumn\n",
        "sns.countplot(y='Sex',data=df2)"
      ],
      "metadata": {
        "id": "g9xwK5PF5TKy"
      },
      "execution_count": null,
      "outputs": []
    },
    {
      "cell_type": "code",
      "source": [
        "#Number of survivors Gender wise\n",
        "sns.countplot(x='Sex',hue='Survived',data=df2)"
      ],
      "metadata": {
        "id": "U3nzge-e6A7Y"
      },
      "execution_count": null,
      "outputs": []
    },
    {
      "cell_type": "code",
      "source": [
        "#Making a count plot for \"Pclass\" column\n",
        "sns.countplot(x='Pclass',data=df2)"
      ],
      "metadata": {
        "id": "gjBoxZZR6onT"
      },
      "execution_count": null,
      "outputs": []
    },
    {
      "cell_type": "code",
      "source": [
        "sns.countplot(x='Pclass',hue='Survived',data=df2)"
      ],
      "metadata": {
        "id": "n6N3EGZN7Tfl"
      },
      "execution_count": null,
      "outputs": []
    },
    {
      "cell_type": "markdown",
      "source": [
        ":  ***Encoding Categorical Columns***"
      ],
      "metadata": {
        "id": "nR4fnqcF7i1w"
      }
    },
    {
      "cell_type": "code",
      "source": [
        "df2['Sex'].value_counts()"
      ],
      "metadata": {
        "id": "cbBV1feW7mQk"
      },
      "execution_count": null,
      "outputs": []
    },
    {
      "cell_type": "code",
      "source": [
        "df2['Embarked'].value_counts()"
      ],
      "metadata": {
        "id": "ruTIUoBs7m74"
      },
      "execution_count": null,
      "outputs": []
    },
    {
      "cell_type": "code",
      "source": [
        "#Converting categorical Columns\n",
        "df2.replace({'Sex':{'male':0,'female':1}, 'Embarked':{'S':0,'C':1,'Q':2}}, inplace=True)"
      ],
      "metadata": {
        "id": "ZtiOaIBP78nr"
      },
      "execution_count": null,
      "outputs": []
    },
    {
      "cell_type": "code",
      "source": [
        "df2.head()"
      ],
      "metadata": {
        "id": "gtZwi-RI8YPD"
      },
      "execution_count": null,
      "outputs": []
    },
    {
      "cell_type": "markdown",
      "source": [
        "**Separating features and target**"
      ],
      "metadata": {
        "id": "jbOFOJXKYUFJ"
      }
    },
    {
      "cell_type": "code",
      "source": [
        "X=df2.drop(columns=['PassengerId','Survived'],axis=1)\n",
        "y=df2['Survived']"
      ],
      "metadata": {
        "id": "Ra-4dpfn83fV"
      },
      "execution_count": null,
      "outputs": []
    },
    {
      "cell_type": "code",
      "source": [
        "X"
      ],
      "metadata": {
        "id": "A_e6sFuf9cqt"
      },
      "execution_count": null,
      "outputs": []
    },
    {
      "cell_type": "code",
      "source": [
        "y"
      ],
      "metadata": {
        "id": "M3VAP7lt9clG"
      },
      "execution_count": null,
      "outputs": []
    },
    {
      "cell_type": "markdown",
      "source": [
        "***Splitting the data into training and testing***"
      ],
      "metadata": {
        "id": "sHrtpmCfYgfG"
      }
    },
    {
      "cell_type": "code",
      "source": [
        "X_train,X_test,y_train,y_test=train_test_split(X,y,test_size=0.2,random_state=2)"
      ],
      "metadata": {
        "id": "JypzQQjg9tDq"
      },
      "execution_count": null,
      "outputs": []
    },
    {
      "cell_type": "code",
      "source": [
        "print(X.shape, X_train.shape, X_test.shape)"
      ],
      "metadata": {
        "id": "w-VBBu8l_cjz"
      },
      "execution_count": null,
      "outputs": []
    },
    {
      "cell_type": "markdown",
      "source": [
        "Model training"
      ],
      "metadata": {
        "id": "9XVyTxn9Y1XD"
      }
    },
    {
      "cell_type": "markdown",
      "source": [
        "***Logistic  Regression***"
      ],
      "metadata": {
        "id": "MB2Tx6PGY7YX"
      }
    },
    {
      "cell_type": "code",
      "source": [
        "model = LogisticRegression()"
      ],
      "metadata": {
        "id": "sVf4GqpfY64F"
      },
      "execution_count": null,
      "outputs": []
    },
    {
      "cell_type": "code",
      "source": [
        "#Training the Logistic Regression model with training data\n",
        "model.fit(X_train, y_train)"
      ],
      "metadata": {
        "id": "FT8O6zUhYpey"
      },
      "execution_count": null,
      "outputs": []
    },
    {
      "cell_type": "markdown",
      "source": [
        "Model Evaluation\n",
        "\n",
        "***Accuracy score***"
      ],
      "metadata": {
        "id": "muzgfjgAZixe"
      }
    },
    {
      "cell_type": "code",
      "source": [
        "#Accuracy on training data\n",
        "X_train_prediction = model.predict(X_train)"
      ],
      "metadata": {
        "id": "kolTtKeEZm-M"
      },
      "execution_count": null,
      "outputs": []
    },
    {
      "cell_type": "code",
      "source": [
        "X_train_prediction"
      ],
      "metadata": {
        "id": "ITgdbQNLZvd8"
      },
      "execution_count": null,
      "outputs": []
    },
    {
      "cell_type": "code",
      "source": [
        "training_data_accuracy = accuracy_score(y_train, X_train_prediction)\n",
        "print('Accuracy score of training data : ', training_data_accuracy)"
      ],
      "metadata": {
        "id": "ZCotgh7cZ6T_"
      },
      "execution_count": null,
      "outputs": []
    },
    {
      "cell_type": "code",
      "source": [
        "# accuracy on test data\n",
        "X_test_prediction = model.predict(X_test)"
      ],
      "metadata": {
        "id": "iChNmRw9aAuQ"
      },
      "execution_count": null,
      "outputs": []
    },
    {
      "cell_type": "code",
      "source": [
        "X_test_prediction"
      ],
      "metadata": {
        "id": "8iuzGXmVaAe5"
      },
      "execution_count": null,
      "outputs": []
    },
    {
      "cell_type": "code",
      "source": [
        "test_data_accuracy = accuracy_score(y_test, X_test_prediction)\n",
        "print('Accuracy score of test data : ', test_data_accuracy)"
      ],
      "metadata": {
        "id": "Fl90QEW4aHzg"
      },
      "execution_count": null,
      "outputs": []
    }
  ]
}