{
  "nbformat": 4,
  "nbformat_minor": 0,
  "metadata": {
    "colab": {
      "private_outputs": true,
      "provenance": [],
      "authorship_tag": "ABX9TyMAsIQdMZzJcMMOnpvRKhR7",
      "include_colab_link": true
    },
    "kernelspec": {
      "name": "python3",
      "display_name": "Python 3"
    },
    "language_info": {
      "name": "python"
    }
  },
  "cells": [
    {
      "cell_type": "markdown",
      "metadata": {
        "id": "view-in-github",
        "colab_type": "text"
      },
      "source": [
        "<a href=\"https://colab.research.google.com/github/syedaBasmaAfreen/ML-projects/blob/main/Spam_mail_prediction.ipynb\" target=\"_parent\"><img src=\"https://colab.research.google.com/assets/colab-badge.svg\" alt=\"Open In Colab\"/></a>"
      ]
    },
    {
      "cell_type": "markdown",
      "source": [
        "# ⌨  Intro of this notebook          "
      ],
      "metadata": {
        "id": "KpGI2A-UjKZ8"
      }
    },
    {
      "cell_type": "markdown",
      "source": [
        "The aim of this study is to clacify spam ✉   by using machine learning algorithm.For this purpose, I will use,\n",
        " *  LogisticRegression algorithm :  used for classification problems.\n",
        " *  Accuracy_score : is a metric used to evaluate the performance of\n",
        "    a classification model.\n",
        " *  TfidfVectorizer : is a ML tehnique used to transform text into\n",
        "    numerical vectors.\n",
        " * train_test_split : is a ML tehnique used to evaluate the\n",
        "    performance of a model."
      ],
      "metadata": {
        "id": "DH6Q0EfAgzvA"
      }
    },
    {
      "cell_type": "markdown",
      "source": [
        "# 📑 About the Datasets\n",
        "\n",
        "- The used dataset is a CSV file.\n",
        "- It contains 5573 individual emails.\n",
        "- Each email has classified by Ham or Spam."
      ],
      "metadata": {
        "id": "0v6eEWatdAx1"
      }
    },
    {
      "cell_type": "markdown",
      "source": [
        "                                Data Collection and Pre_processing"
      ],
      "metadata": {
        "id": "fLNlhToab8aO"
      }
    },
    {
      "cell_type": "markdown",
      "source": [
        "  **Importing  Dependncies**       "
      ],
      "metadata": {
        "id": "y2_QsI-CYT9T"
      }
    },
    {
      "cell_type": "code",
      "execution_count": null,
      "metadata": {
        "id": "FpmYF89F-Fem"
      },
      "outputs": [],
      "source": [
        "import numpy as np\n",
        "import pandas as pd\n",
        "from  sklearn.model_selection import train_test_split\n",
        "from sklearn.feature_extraction.text import TfidfVectorizer\n",
        "from sklearn.linear_model import LogisticRegression\n",
        "from sklearn.metrics import accuracy_score"
      ]
    },
    {
      "cell_type": "code",
      "source": [
        "#💻 loading the dataset to a pandas DataFrame\n",
        "\n",
        "unfiltered_mail_data=pd.read_csv('/content/mail_data.csv')"
      ],
      "metadata": {
        "id": "2LJEzgOaCMr2"
      },
      "execution_count": null,
      "outputs": []
    },
    {
      "cell_type": "code",
      "source": [
        "unfiltered_mail_data"
      ],
      "metadata": {
        "id": "JThOZx94Cbtj"
      },
      "execution_count": null,
      "outputs": []
    },
    {
      "cell_type": "code",
      "source": [
        "#replacing  the null values with a null string\n",
        "mail_data=unfiltered_mail_data.where((pd.notnull(unfiltered_mail_data)),)"
      ],
      "metadata": {
        "id": "8fzQwcyjDusG"
      },
      "execution_count": null,
      "outputs": []
    },
    {
      "cell_type": "code",
      "source": [
        "#print the first 5 rows of the dataframe\n",
        "mail_data.head()\n"
      ],
      "metadata": {
        "id": "PaVUzKwAECY7"
      },
      "execution_count": null,
      "outputs": []
    },
    {
      "cell_type": "code",
      "source": [
        "mail_data.shape"
      ],
      "metadata": {
        "id": "ieVgXw9fEnFH"
      },
      "execution_count": null,
      "outputs": []
    },
    {
      "cell_type": "markdown",
      "source": [
        "***Label Encoding***"
      ],
      "metadata": {
        "id": "hoKnwcNVE4OE"
      }
    },
    {
      "cell_type": "code",
      "source": [
        "#label spam mail as 0 & ham mail as 1\n",
        "mail_data.loc[mail_data['Category']=='spam','Category']=0\n",
        "mail_data.loc[mail_data['Category']=='ham','Category']=1"
      ],
      "metadata": {
        "id": "6GwzbiUKEpcw"
      },
      "execution_count": null,
      "outputs": []
    },
    {
      "cell_type": "code",
      "source": [
        "#seperating the data as text and labels\n",
        "X=mail_data['Message']\n",
        "y=mail_data['Category']"
      ],
      "metadata": {
        "id": "l3bVUrk0F7Wv"
      },
      "execution_count": null,
      "outputs": []
    },
    {
      "cell_type": "code",
      "source": [
        "print(X)"
      ],
      "metadata": {
        "id": "XSJZxMVkGeFw"
      },
      "execution_count": null,
      "outputs": []
    },
    {
      "cell_type": "code",
      "source": [
        "print(y)"
      ],
      "metadata": {
        "id": "XZO1H_1OGgmQ"
      },
      "execution_count": null,
      "outputs": []
    },
    {
      "cell_type": "markdown",
      "source": [
        "***Splitting the  data into training data& test data***\n",
        "\n"
      ],
      "metadata": {
        "id": "O7QU9cjtGmBY"
      }
    },
    {
      "cell_type": "code",
      "source": [
        "X_train,X_test,y_train,y_test=train_test_split(X,y,test_size=0.2 ,random_state=3)"
      ],
      "metadata": {
        "id": "SD9_3cwDGklm"
      },
      "execution_count": null,
      "outputs": []
    },
    {
      "cell_type": "code",
      "source": [
        "print(X.shape,X_train.shape,X_test.shape)"
      ],
      "metadata": {
        "id": "CM-PJJa8Hmfn"
      },
      "execution_count": null,
      "outputs": []
    },
    {
      "cell_type": "markdown",
      "source": [
        "***Feature Extraction***"
      ],
      "metadata": {
        "id": "P1beCq3NIQFf"
      }
    },
    {
      "cell_type": "code",
      "source": [
        "#transform the text data to feature vectors that can b used as input to th logistic regression\n",
        "feature_extraction = TfidfVectorizer(min_df=1, stop_words='english', lowercase=1)\n",
        "\n",
        "\n",
        "X_train_features = feature_extraction.fit_transform(X_train)\n",
        "X_test_features = feature_extraction.transform(X_test)\n",
        "# convert y train & test values as integers\n",
        "y_train = y_train.astype('int')\n",
        "y_test = y_test.astype('int')\n"
      ],
      "metadata": {
        "id": "rHFp2lBiJNap"
      },
      "execution_count": null,
      "outputs": []
    },
    {
      "cell_type": "code",
      "source": [
        "print(X_train)"
      ],
      "metadata": {
        "id": "8jV8lRLYP82-"
      },
      "execution_count": null,
      "outputs": []
    },
    {
      "cell_type": "code",
      "source": [
        "print(X_train_features)"
      ],
      "metadata": {
        "id": "m7YSi4dTJqL4"
      },
      "execution_count": null,
      "outputs": []
    },
    {
      "cell_type": "markdown",
      "source": [
        "                                                     Training Model"
      ],
      "metadata": {
        "id": "ilRvil5JQEIF"
      }
    },
    {
      "cell_type": "markdown",
      "source": [
        "***Logistic Regression***\n"
      ],
      "metadata": {
        "id": "ow6IvkFuQLat"
      }
    },
    {
      "cell_type": "code",
      "source": [
        "\n",
        "model=LogisticRegression()"
      ],
      "metadata": {
        "id": "rYd5jsrWP2Vh"
      },
      "execution_count": null,
      "outputs": []
    },
    {
      "cell_type": "code",
      "source": [
        "\n",
        "# training the logistic regression model with the training data\n",
        "model.fit(X_train_features,y_train )"
      ],
      "metadata": {
        "id": "bxcONBd8QbGs"
      },
      "execution_count": null,
      "outputs": []
    },
    {
      "cell_type": "markdown",
      "source": [
        "***Evaluating the Training data***"
      ],
      "metadata": {
        "id": "tlD_NQVYRBPu"
      }
    },
    {
      "cell_type": "code",
      "source": [
        "#prediction on training data\n",
        "prediction_on_training_data=model.predict(X_train_features)\n",
        "accuracy_on_training_data =accuracy_score(y_train,prediction_on_training_data)\n"
      ],
      "metadata": {
        "id": "5LoyX2ghQ3Om"
      },
      "execution_count": null,
      "outputs": []
    },
    {
      "cell_type": "code",
      "source": [
        "print(accuracy_on_training_data)"
      ],
      "metadata": {
        "id": "1dQpa7tISDSN"
      },
      "execution_count": null,
      "outputs": []
    },
    {
      "cell_type": "code",
      "source": [
        "#prediction on training data\n",
        "prediction_on_test_data = model.predict(X_test_features)\n",
        "accuracy_on_test_data = accuracy_score(y_test,prediction_on_test_data)"
      ],
      "metadata": {
        "id": "58azla1IRgDE"
      },
      "execution_count": null,
      "outputs": []
    },
    {
      "cell_type": "code",
      "source": [
        "print(accuracy_on_test_data)"
      ],
      "metadata": {
        "id": "5E_jQKWkSfZg"
      },
      "execution_count": null,
      "outputs": []
    },
    {
      "cell_type": "markdown",
      "source": [
        "# ` Built a predictive System`"
      ],
      "metadata": {
        "id": "ZGCPHNCfU1gb"
      }
    },
    {
      "cell_type": "code",
      "source": [
        "input_mail=[\",Just forced myself to eat a slice. I'm really not hungry tho. This sucks. Mark is getting worried. He knows I'm sick when I turn down pizza.Lol\"]\n",
        "\n",
        "#convert text to features vectors\n",
        "input_data_features=feature_extraction.transform(input_mail)\n",
        "\n",
        "#making prediction\n",
        "\n",
        "prediction =model.predict(input_data_features)\n",
        "print(prediction)\n",
        "\n",
        "if prediction[0]==1:\n",
        "  print('ham mail')\n",
        "else:\n",
        "  print('spam mail')"
      ],
      "metadata": {
        "id": "46JTUxBKUukU"
      },
      "execution_count": null,
      "outputs": []
    }
  ]
}